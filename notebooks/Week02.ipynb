{
 "cells": [
  {
   "cell_type": "markdown",
   "metadata": {},
   "source": [
    "# 2 数据的使用\n",
    "## 2.1 去除无用数据\n",
    "    上周已近已经对数据有了一些了解，直观地了解了数据的基本情况。本周要更加深入地使用数据，首先，要把发现的不连续问题解决。\n",
    "    经过考虑，选择的解决方案是将不连续的天数数据直接删除，基于这样的假设：短时间内，同一时间的车流量变化不大。"
   ]
  },
  {
   "cell_type": "code",
   "execution_count": 1,
   "metadata": {},
   "outputs": [],
   "source": [
    "import h5py\n",
    "import numpy as np\n",
    "data_Path='../data/TaxiBJ/BJ16_M32x32_T30_InOut.h5'"
   ]
  },
  {
   "cell_type": "code",
   "execution_count": 2,
   "metadata": {},
   "outputs": [
    {
     "name": "stdout",
     "output_type": "stream",
     "text": [
      "6624 6624\n"
     ]
    },
    {
     "name": "stderr",
     "output_type": "stream",
     "text": [
      "c:\\users\\hu\\miniconda3\\envs\\pytorch11\\lib\\site-packages\\h5py\\_hl\\dataset.py:313: H5pyDeprecationWarning: dataset.value has been deprecated. Use dataset[()] instead.\n",
      "  \"Use dataset[()] instead.\", H5pyDeprecationWarning)\n"
     ]
    }
   ],
   "source": [
    "def del_incomp_date(data_Path):\n",
    "    reader=h5py.File(data_Path,'r')\n",
    "    data=reader['data'].value\n",
    "    date=reader['date'].value\n",
    "    reader.close()\n",
    "    data=np.array(data)\n",
    "    date=np.array(date)\n",
    "    date_complete=[]##完整的天数\n",
    "    data_complete=[]\n",
    "    date_temp=[]##用于统计一天是否有48个时间戳\n",
    "    data_temp=[]\n",
    "    date_str=date[0][0:8]\n",
    "    for i in range(len(date)):\n",
    "        if date[i][0:8]==date_str:\n",
    "            date_temp.append(date[i])\n",
    "            data_temp.append(data[i])\n",
    "        else :\n",
    "            if len(date_temp)==48:\n",
    "                date_complete.extend(date_temp)\n",
    "                data_complete.extend(data_temp)\n",
    "            date_temp.clear()\n",
    "            data_temp.clear()\n",
    "            date_str=date[i][0:8]\n",
    "            date_temp.append(date[i])\n",
    "            data_temp.append(data[i])\n",
    "    print(len(date_complete),len(data_complete))\n",
    "    return data_complete,date_complete\n",
    "data,date = del_incomp_date(data_Path)          "
   ]
  },
  {
   "cell_type": "markdown",
   "metadata": {},
   "source": [
    "## 2.2 模型的输入\n",
    "    根据论文，这个模型的依赖4个方面\n",
    "   * closeness--近期的流量，选择前3个时间戳的数据\n",
    "   * period--短期的流量，选择前48个时间戳的数据\n",
    "   * trend--流量预测，提取长时间内流量变化的信息预测，选择前336个时间戳的数据\n",
    "   * mete--天气情况，只使用当天数据"
   ]
  },
  {
   "cell_type": "markdown",
   "metadata": {},
   "source": [
    "    因此本周的其他工作是能够输入一个D日期，得到用来计算D的流量的之前日期及其数据"
   ]
  },
  {
   "cell_type": "code",
   "execution_count": 3,
   "metadata": {},
   "outputs": [
    {
     "name": "stdout",
     "output_type": "stream",
     "text": [
      "[1, 2, 3] [48, 96, 144] [336, 672, 1008]\n"
     ]
    }
   ],
   "source": [
    "close=[i for i in range(1,4)]\n",
    "period=[48*j for j in range(1,4)]\n",
    "trend=[7*48*j for j in range(1,4)]\n",
    "print(close,period,trend)"
   ]
  },
  {
   "cell_type": "code",
   "execution_count": 4,
   "metadata": {},
   "outputs": [
    {
     "name": "stdout",
     "output_type": "stream",
     "text": [
      "(6624, 2, 32, 32)\n"
     ]
    }
   ],
   "source": [
    "y=np.asarray(data)\n",
    "\n",
    "print(y.shape)"
   ]
  },
  {
   "cell_type": "markdown",
   "metadata": {},
   "source": [
    "    可以看出来，要计算一个时间戳的流量数据，最起码要在数据集的1008个时间戳之后才有效"
   ]
  },
  {
   "cell_type": "code",
   "execution_count": 5,
   "metadata": {},
   "outputs": [
    {
     "name": "stdout",
     "output_type": "stream",
     "text": [
      "(5616, 6, 32, 32)\n",
      "(5616, 6, 32, 32)\n",
      "(5616, 6, 32, 32)\n",
      "(5616,)\n",
      "(5616, 2, 32, 32)\n"
     ]
    }
   ],
   "source": [
    "close_data=[]\n",
    "period_data=[]\n",
    "trend_data=[]\n",
    "Y=data[1008:]\n",
    "time_stamps=[]\n",
    "close_temp=np.array([])\n",
    "period_temp=np.array([])\n",
    "trend_temp=np.array([])\n",
    "data=np.array(data)\n",
    "for i in range(1008,(len(data))):\n",
    "    close_temp=np.vstack([data[i-j] for j in close])\n",
    "    period_temp=np.vstack([data[i-j] for j in period])\n",
    "    trend_temp=np.vstack([data[i-j] for j in trend])\n",
    "    close_data.append(close_temp)\n",
    "    period_data.append(period_temp)\n",
    "    trend_data.append(trend_temp)\n",
    "    time_stamps.append(date[i])\n",
    "print(np.asarray(close_data).shape)\n",
    "print(np.asarray(period_data).shape)\n",
    "print(np.asarray(trend_data).shape)\n",
    "print(np.asarray(time_stamps).shape)\n",
    "print(np.asarray(Y).shape)"
   ]
  },
  {
   "cell_type": "markdown",
   "metadata": {},
   "source": [
    "    通过以上步骤，我们获得了有效的、可以用于深度学习的时间戳和当天的流量数据以及用于计算这个流量依赖数据，为了简单起见，我现在先不使用天气的数据\n"
   ]
  },
  {
   "cell_type": "code",
   "execution_count": 7,
   "metadata": {},
   "outputs": [],
   "source": [
    "f = h5py.File('../data/TaxiBJ/BJ_Meteorology.h5', 'r')\n",
    "Timeslot = f['date'].value\n",
    "WindSpeed = f['WindSpeed'].value\n",
    "Weather = f['Weather'].value\n",
    "Temperature = f['Temperature'].value\n",
    "f.close()"
   ]
  },
  {
   "cell_type": "code",
   "execution_count": 8,
   "metadata": {},
   "outputs": [
    {
     "name": "stdout",
     "output_type": "stream",
     "text": [
      "[b'2013020105' b'2013020106' b'2013020107' b'2013020108' b'2013020109'\n",
      " b'2013020110' b'2013020111' b'2013020112' b'2013020113' b'2013020114'\n",
      " b'2013020115' b'2013020116' b'2013020117' b'2013020118' b'2013020119'\n",
      " b'2013020120' b'2013020121' b'2013020122' b'2013020123' b'2013020124'\n",
      " b'2013020125' b'2013020126' b'2013020127' b'2013020128' b'2013020129'\n",
      " b'2013020130' b'2013020131' b'2013020132' b'2013020133' b'2013020134'\n",
      " b'2013020135' b'2013020136' b'2013020137' b'2013020138' b'2013020139'\n",
      " b'2013020140' b'2013020141' b'2013020142' b'2013020143' b'2013020144'\n",
      " b'2013020145' b'2013020146' b'2013020147' b'2013020148' b'2013020201'\n",
      " b'2013020202' b'2013020203' b'2013020204' b'2013020205' b'2013020206'\n",
      " b'2013020207' b'2013020208' b'2013020209' b'2013020210' b'2013020211'\n",
      " b'2013020212' b'2013020213' b'2013020214' b'2013020215' b'2013020216'\n",
      " b'2013020217' b'2013020218' b'2013020219' b'2013020220' b'2013020221'\n",
      " b'2013020222' b'2013020223' b'2013020224' b'2013020225' b'2013020226'\n",
      " b'2013020227' b'2013020228' b'2013020229' b'2013020230' b'2013020231'\n",
      " b'2013020232' b'2013020233' b'2013020234' b'2013020235' b'2013020236'\n",
      " b'2013020237' b'2013020238' b'2013020239' b'2013020240' b'2013020241'\n",
      " b'2013020242' b'2013020243' b'2013020244' b'2013020245' b'2013020246'\n",
      " b'2013020247' b'2013020248' b'2013020301' b'2013020302' b'2013020303'\n",
      " b'2013020304' b'2013020305' b'2013020306' b'2013020307' b'2013020308']\n"
     ]
    }
   ],
   "source": [
    "print(Timeslot[0:100])"
   ]
  },
  {
   "cell_type": "code",
   "execution_count": 9,
   "metadata": {},
   "outputs": [],
   "source": [
    "import torch\n",
    "from torch.utils.data import Dataset, DataLoader"
   ]
  },
  {
   "cell_type": "code",
   "execution_count": 10,
   "metadata": {},
   "outputs": [],
   "source": [
    "class TaxiBJ_Dataset(Dataset):\n",
    "    def __init__(self,date_Path):\n",
    "        self.reader,self.date=del_incomp_date(date_Path)\n",
    "    def __len__(self):\n",
    "        return len(self.date)\n",
    "    def __getitem__(self,index):\n",
    "        day=date[index]\n",
    "        idx=reader['date'].index(day)\n",
    "        return reader['data'][index]\n",
    "        "
   ]
  },
  {
   "cell_type": "code",
   "execution_count": null,
   "metadata": {},
   "outputs": [],
   "source": []
  },
  {
   "cell_type": "markdown",
   "metadata": {},
   "source": [
    "## 2.4 PyTorch实践\n",
    "    本周先按照论文所说，尝试模型的建立"
   ]
  },
  {
   "cell_type": "code",
   "execution_count": 11,
   "metadata": {},
   "outputs": [],
   "source": [
    "from torch import  nn\n",
    "import torch as t\n",
    "from torch.nn import  functional as F"
   ]
  },
  {
   "cell_type": "code",
   "execution_count": 13,
   "metadata": {},
   "outputs": [
    {
     "ename": "SyntaxError",
     "evalue": "invalid syntax (<ipython-input-13-2df1c21cdaa7>, line 8)",
     "output_type": "error",
     "traceback": [
      "\u001b[1;36m  File \u001b[1;32m\"<ipython-input-13-2df1c21cdaa7>\"\u001b[1;36m, line \u001b[1;32m8\u001b[0m\n\u001b[1;33m    nn.Conv2d(out_flow,out_flow,3,1,1,bias=False),\u001b[0m\n\u001b[1;37m     ^\u001b[0m\n\u001b[1;31mSyntaxError\u001b[0m\u001b[1;31m:\u001b[0m invalid syntax\n"
     ]
    }
   ],
   "source": [
    "class ResUnit(nn.Module):\n",
    "    def __init__(self,in_flow,out_flow,stride=1):\n",
    "        super(ResUnit,self).__init__()\n",
    "        self.left=nn.Sequential(\n",
    "            nn.Conv2d(in_flow,out_flow,3,stride,1,bias=False),\n",
    "            nn.ReLU(inplace=True),\n",
    "            nn.BatchNorm2d(out_flow)\n",
    "            nn.Conv2d(out_flow,out_flow,3,1,1,bias=False),\n",
    "            nn.BatchNorm2d(out_flow))\n",
    "        self.right=shortcut\n",
    "    def forward(self,x):\n",
    "        out=self.left(x)\n",
    "        residual=x if self.right is None else self.right(x)\n",
    "        out+=residual\n",
    "        return F.relu(out)\n",
    "class ResNet(nn.Module):\n",
    "    "
   ]
  },
  {
   "cell_type": "code",
   "execution_count": null,
   "metadata": {},
   "outputs": [],
   "source": []
  }
 ],
 "metadata": {
  "kernelspec": {
   "display_name": "Python 3",
   "language": "python",
   "name": "python3"
  },
  "language_info": {
   "codemirror_mode": {
    "name": "ipython",
    "version": 3
   },
   "file_extension": ".py",
   "mimetype": "text/x-python",
   "name": "python",
   "nbconvert_exporter": "python",
   "pygments_lexer": "ipython3",
   "version": "3.6.7"
  }
 },
 "nbformat": 4,
 "nbformat_minor": 2
}
