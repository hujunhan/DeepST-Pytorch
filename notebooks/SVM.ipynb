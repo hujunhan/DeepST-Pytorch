{
 "cells": [
  {
   "cell_type": "code",
   "execution_count": 1,
   "metadata": {},
   "outputs": [],
   "source": [
    "import sklearn\n",
    "import numpy as np\n",
    "from sklearn import preprocessing\n",
    "from sklearn.svm import SVR\n",
    "import h5py\n",
    "from sklearn.metrics import mean_squared_error\n",
    "import math"
   ]
  },
  {
   "cell_type": "code",
   "execution_count": 2,
   "metadata": {},
   "outputs": [],
   "source": [
    "fname = 'BJ{}_M32x32_T30_InOut.h5'.format(16)\n",
    "reader=h5py.File(fname,'r')\n",
    "data=reader['data'].value"
   ]
  },
  {
   "cell_type": "code",
   "execution_count": 3,
   "metadata": {},
   "outputs": [],
   "source": [
    "def window_stack(x, stepsize=1, window=3, pad=1):                                                    \n",
    "    m,n = x.shape                                                                                    \n",
    "    res = np.array([[x[i:i+window:stepsize,j:j+window:stepsize] for j in range(n-window+1)] for i in range(m-window+1)])                                                                                 \n",
    "    m -= 2*pad                                                                                       \n",
    "    n -= 2*pad                                                                                       \n",
    "    return res.reshape(m*n,window*window)"
   ]
  },
  {
   "cell_type": "code",
   "execution_count": 4,
   "metadata": {},
   "outputs": [],
   "source": [
    "stepsize=1\n",
    "window=3\n",
    "pad=1\n",
    "m=n=32\n",
    "timeslot=100\n",
    "train_x=[]\n",
    "train_y=[]\n",
    "test_x=[]\n",
    "test_y=[]\n",
    "for k in range(timeslot):\n",
    "    if( k==timeslot-1):\n",
    "        break\n",
    "    for i in range(m-window+1):\n",
    "        for j in range(n-window+1):\n",
    "            train_x.append(data[k][1][i:i+window:stepsize,j:j+window:stepsize])\n",
    "            train_y.append(data[k+1][1][i,j])"
   ]
  },
  {
   "cell_type": "code",
   "execution_count": 5,
   "metadata": {},
   "outputs": [
    {
     "data": {
      "text/plain": [
       "(179100, 9)"
      ]
     },
     "execution_count": 5,
     "metadata": {},
     "output_type": "execute_result"
    }
   ],
   "source": [
    "train_x=np.asarray(train_x)\n",
    "train_x=train_x.reshape((timeslot-1)*900,9)\n",
    "train_x.shape"
   ]
  },
  {
   "cell_type": "code",
   "execution_count": 6,
   "metadata": {},
   "outputs": [
    {
     "data": {
      "text/plain": [
       "(179100, 1)"
      ]
     },
     "execution_count": 6,
     "metadata": {},
     "output_type": "execute_result"
    }
   ],
   "source": [
    "train_y=np.array(train_y)\n",
    "train_y=train_y.reshape(-1,1)\n",
    "train_y.shape"
   ]
  },
  {
   "cell_type": "code",
   "execution_count": 7,
   "metadata": {},
   "outputs": [],
   "source": [
    "minmaxx=preprocessing.MinMaxScaler()\n",
    "minmaxy=preprocessing.MinMaxScaler()\n",
    "train_x=minmaxx.fit_transform(train_x)\n",
    "train_y=minmaxy.fit_transform(train_y)"
   ]
  },
  {
   "cell_type": "code",
   "execution_count": 8,
   "metadata": {},
   "outputs": [
    {
     "name": "stdout",
     "output_type": "stream",
     "text": [
      "\n"
     ]
    }
   ],
   "source": [
    "train_len=int(0.7*len(train_x))\n",
    "print()"
   ]
  },
  {
   "cell_type": "code",
   "execution_count": 9,
   "metadata": {},
   "outputs": [],
   "source": [
    "test_x=train_x[train_len:]\n",
    "train_x=train_x[0:train_len]\n",
    "test_y=train_y[train_len:]\n",
    "train_y=train_y[0:train_len]"
   ]
  },
  {
   "cell_type": "code",
   "execution_count": 10,
   "metadata": {},
   "outputs": [
    {
     "name": "stderr",
     "output_type": "stream",
     "text": [
      "C:\\Users\\hu\\Miniconda3\\lib\\site-packages\\sklearn\\utils\\validation.py:578: DataConversionWarning: A column-vector y was passed when a 1d array was expected. Please change the shape of y to (n_samples, ), for example using ravel().\n",
      "  y = column_or_1d(y, warn=True)\n"
     ]
    },
    {
     "name": "stdout",
     "output_type": "stream",
     "text": [
      "1\n",
      "Wall time: 13.6 s\n"
     ]
    }
   ],
   "source": [
    "%%time\n",
    "rbf_svr = SVR(kernel='rbf')\n",
    "rbf_svr.fit(train_x, train_y)\n",
    "print(1)"
   ]
  },
  {
   "cell_type": "code",
   "execution_count": 11,
   "metadata": {},
   "outputs": [],
   "source": [
    "predict_y=rbf_svr.predict(test_x)"
   ]
  },
  {
   "cell_type": "code",
   "execution_count": 12,
   "metadata": {},
   "outputs": [],
   "source": [
    "predict_y=predict_y.reshape(-1,1)"
   ]
  },
  {
   "cell_type": "code",
   "execution_count": 13,
   "metadata": {},
   "outputs": [],
   "source": [
    "predict_y=minmaxy.inverse_transform(predict_y)\n",
    "test_y=minmaxy.inverse_transform(test_y)"
   ]
  },
  {
   "cell_type": "code",
   "execution_count": 14,
   "metadata": {},
   "outputs": [
    {
     "name": "stdout",
     "output_type": "stream",
     "text": [
      "[[122.86513612]\n",
      " [ 80.93825673]\n",
      " [ 96.47624204]\n",
      " [132.05951795]\n",
      " [ 91.20682899]\n",
      " [ 94.87648439]\n",
      " [ 89.83178333]\n",
      " [167.86090069]\n",
      " [386.32771858]\n",
      " [339.20262561]]\n",
      "[[ 46.]\n",
      " [  0.]\n",
      " [ 43.]\n",
      " [120.]\n",
      " [ 49.]\n",
      " [ 90.]\n",
      " [101.]\n",
      " [160.]\n",
      " [438.]\n",
      " [346.]]\n"
     ]
    }
   ],
   "source": [
    "print(predict_y[0:10])\n",
    "print(test_y[0:10])"
   ]
  },
  {
   "cell_type": "code",
   "execution_count": 15,
   "metadata": {},
   "outputs": [
    {
     "name": "stdout",
     "output_type": "stream",
     "text": [
      "56.75918166347087\n"
     ]
    }
   ],
   "source": [
    "print(math.sqrt(mean_squared_error(predict_y,test_y)))"
   ]
  },
  {
   "cell_type": "code",
   "execution_count": null,
   "metadata": {},
   "outputs": [],
   "source": []
  }
 ],
 "metadata": {
  "kernelspec": {
   "display_name": "Python 3",
   "language": "python",
   "name": "python3"
  },
  "language_info": {
   "codemirror_mode": {
    "name": "ipython",
    "version": 3
   },
   "file_extension": ".py",
   "mimetype": "text/x-python",
   "name": "python",
   "nbconvert_exporter": "python",
   "pygments_lexer": "ipython3",
   "version": "3.6.6"
  }
 },
 "nbformat": 4,
 "nbformat_minor": 2
}
